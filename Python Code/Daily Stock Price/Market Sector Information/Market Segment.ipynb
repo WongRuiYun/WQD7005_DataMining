{
 "cells": [
  {
   "cell_type": "code",
   "execution_count": 1,
   "metadata": {},
   "outputs": [],
   "source": [
    "import os\n",
    "import tabula\n",
    "import numpy as np\n",
    "import pandas as pd\n",
    "from pandas import DataFrame\n",
    "import PyPDF2 as pyPdf"
   ]
  },
  {
   "cell_type": "markdown",
   "metadata": {},
   "source": [
    "# Read All tables in PDF file"
   ]
  },
  {
   "cell_type": "code",
   "execution_count": 2,
   "metadata": {},
   "outputs": [],
   "source": [
    "data=r'C:\\Users\\woru6001\\Desktop\\Data Mining\\Python Code\\Daily Stock Price\\Market Sector Information\\Securities_Equities_Year_End_Closing_Prices_2018.pdf'\n",
    "output = pd.DataFrame(tabula.read_pdf(data,pages=1))\n",
    "output=output.dropna()"
   ]
  },
  {
   "cell_type": "code",
   "execution_count": 3,
   "metadata": {},
   "outputs": [],
   "source": [
    "output2= pd.DataFrame([])\n",
    "reader = pyPdf.PdfFileReader(open(data,mode='rb') )\n",
    "n = reader.getNumPages() \n",
    "for i in range(2,n):\n",
    "    df1 = tabula.read_pdf(data,pages=i,sort=True,pandas_options={'header': None},multiple_tables=True)\n",
    "    output2=output2.append(df1)"
   ]
  },
  {
   "cell_type": "code",
   "execution_count": 4,
   "metadata": {},
   "outputs": [
    {
     "data": {
      "text/plain": [
       "(61, 6)"
      ]
     },
     "execution_count": 4,
     "metadata": {},
     "output_type": "execute_result"
    }
   ],
   "source": [
    "output.shape"
   ]
  },
  {
   "cell_type": "code",
   "execution_count": 5,
   "metadata": {},
   "outputs": [
    {
     "data": {
      "text/plain": [
       "(1782, 6)"
      ]
     },
     "execution_count": 5,
     "metadata": {},
     "output_type": "execute_result"
    }
   ],
   "source": [
    "output2.shape"
   ]
  },
  {
   "cell_type": "code",
   "execution_count": 6,
   "metadata": {},
   "outputs": [
    {
     "data": {
      "text/html": [
       "<div>\n",
       "<style scoped>\n",
       "    .dataframe tbody tr th:only-of-type {\n",
       "        vertical-align: middle;\n",
       "    }\n",
       "\n",
       "    .dataframe tbody tr th {\n",
       "        vertical-align: top;\n",
       "    }\n",
       "\n",
       "    .dataframe thead th {\n",
       "        text-align: right;\n",
       "    }\n",
       "</style>\n",
       "<table border=\"1\" class=\"dataframe\">\n",
       "  <thead>\n",
       "    <tr style=\"text-align: right;\">\n",
       "      <th></th>\n",
       "      <th>Stock</th>\n",
       "      <th>Stock Name</th>\n",
       "      <th>Stock Long Name</th>\n",
       "      <th>Board</th>\n",
       "      <th>Sector</th>\n",
       "      <th>Closing</th>\n",
       "    </tr>\n",
       "  </thead>\n",
       "  <tbody>\n",
       "    <tr>\n",
       "      <th>2</th>\n",
       "      <td>0001</td>\n",
       "      <td>SCOMNET</td>\n",
       "      <td>SUPERCOMNET TECHNOLOGIES BHD</td>\n",
       "      <td>ACE MARKET</td>\n",
       "      <td>INDUSTRIAL PRODUCTS &amp; SERVICES</td>\n",
       "      <td>0.560</td>\n",
       "    </tr>\n",
       "    <tr>\n",
       "      <th>3</th>\n",
       "      <td>0002</td>\n",
       "      <td>KOTRA</td>\n",
       "      <td>KOTRA INDUSTRIES BHD</td>\n",
       "      <td>MAIN MARKET</td>\n",
       "      <td>HEALTH CARE</td>\n",
       "      <td>1.700</td>\n",
       "    </tr>\n",
       "    <tr>\n",
       "      <th>4</th>\n",
       "      <td>0005</td>\n",
       "      <td>UCREST</td>\n",
       "      <td>UCREST BERHAD</td>\n",
       "      <td>ACE MARKET</td>\n",
       "      <td>TECHNOLOGY</td>\n",
       "      <td>0.265</td>\n",
       "    </tr>\n",
       "    <tr>\n",
       "      <th>5</th>\n",
       "      <td>0006</td>\n",
       "      <td>PINEAPP</td>\n",
       "      <td>PINEAPPLE RESOURCES BHD</td>\n",
       "      <td>ACE MARKET</td>\n",
       "      <td>TECHNOLOGY</td>\n",
       "      <td>0.310</td>\n",
       "    </tr>\n",
       "    <tr>\n",
       "      <th>6</th>\n",
       "      <td>0007</td>\n",
       "      <td>PUC</td>\n",
       "      <td>PUC BERHAD</td>\n",
       "      <td>ACE MARKET</td>\n",
       "      <td>TELECOMMUNICATIONS &amp; MEDIA</td>\n",
       "      <td>0.115</td>\n",
       "    </tr>\n",
       "  </tbody>\n",
       "</table>\n",
       "</div>"
      ],
      "text/plain": [
       "  Stock Stock Name               Stock Long Name        Board  \\\n",
       "2  0001    SCOMNET  SUPERCOMNET TECHNOLOGIES BHD   ACE MARKET   \n",
       "3  0002      KOTRA          KOTRA INDUSTRIES BHD  MAIN MARKET   \n",
       "4  0005     UCREST                 UCREST BERHAD   ACE MARKET   \n",
       "5  0006    PINEAPP       PINEAPPLE RESOURCES BHD   ACE MARKET   \n",
       "6  0007        PUC                    PUC BERHAD   ACE MARKET   \n",
       "\n",
       "                           Sector Closing  \n",
       "2  INDUSTRIAL PRODUCTS & SERVICES   0.560  \n",
       "3                     HEALTH CARE   1.700  \n",
       "4                      TECHNOLOGY   0.265  \n",
       "5                      TECHNOLOGY   0.310  \n",
       "6      TELECOMMUNICATIONS & MEDIA   0.115  "
      ]
     },
     "execution_count": 6,
     "metadata": {},
     "output_type": "execute_result"
    }
   ],
   "source": [
    "output.head()"
   ]
  },
  {
   "cell_type": "code",
   "execution_count": 7,
   "metadata": {},
   "outputs": [
    {
     "data": {
      "text/html": [
       "<div>\n",
       "<style scoped>\n",
       "    .dataframe tbody tr th:only-of-type {\n",
       "        vertical-align: middle;\n",
       "    }\n",
       "\n",
       "    .dataframe tbody tr th {\n",
       "        vertical-align: top;\n",
       "    }\n",
       "\n",
       "    .dataframe thead th {\n",
       "        text-align: right;\n",
       "    }\n",
       "</style>\n",
       "<table border=\"1\" class=\"dataframe\">\n",
       "  <thead>\n",
       "    <tr style=\"text-align: right;\">\n",
       "      <th></th>\n",
       "      <th>Stock</th>\n",
       "      <th>Stock Name</th>\n",
       "      <th>Stock Long Name</th>\n",
       "      <th>Board</th>\n",
       "      <th>Sector</th>\n",
       "      <th>Closing</th>\n",
       "    </tr>\n",
       "  </thead>\n",
       "  <tbody>\n",
       "    <tr>\n",
       "      <th>0</th>\n",
       "      <td>0066</td>\n",
       "      <td>VSOLAR</td>\n",
       "      <td>VSOLAR GROUP BERHAD</td>\n",
       "      <td>ACE MARKET</td>\n",
       "      <td>TECHNOLOGY</td>\n",
       "      <td>0.120</td>\n",
       "    </tr>\n",
       "    <tr>\n",
       "      <th>1</th>\n",
       "      <td>0068</td>\n",
       "      <td>ASDION</td>\n",
       "      <td>ASDION BHD</td>\n",
       "      <td>ACE MARKET</td>\n",
       "      <td>TECHNOLOGY</td>\n",
       "      <td>0.185</td>\n",
       "    </tr>\n",
       "    <tr>\n",
       "      <th>2</th>\n",
       "      <td>0068WB</td>\n",
       "      <td>ASDION-WB</td>\n",
       "      <td>ASDION BERHAD - WARRANTS 2014/2019</td>\n",
       "      <td>ACE MARKET</td>\n",
       "      <td>TECHNOLOGY</td>\n",
       "      <td>0.010</td>\n",
       "    </tr>\n",
       "    <tr>\n",
       "      <th>3</th>\n",
       "      <td>0069</td>\n",
       "      <td>VIVOCOM</td>\n",
       "      <td>VIVOCOM INTL HOLDINGS BERHAD</td>\n",
       "      <td>ACE MARKET</td>\n",
       "      <td>TECHNOLOGY</td>\n",
       "      <td>0.020</td>\n",
       "    </tr>\n",
       "    <tr>\n",
       "      <th>4</th>\n",
       "      <td>0069WC</td>\n",
       "      <td>VIVOCOM-WC</td>\n",
       "      <td>VIVOCOM INTL HOLDINGS BERHAD - WARRANTS C 2015...</td>\n",
       "      <td>ACE MARKET</td>\n",
       "      <td>TECHNOLOGY</td>\n",
       "      <td>0.005</td>\n",
       "    </tr>\n",
       "  </tbody>\n",
       "</table>\n",
       "</div>"
      ],
      "text/plain": [
       "    Stock  Stock Name                                    Stock Long Name  \\\n",
       "0    0066      VSOLAR                                VSOLAR GROUP BERHAD   \n",
       "1    0068      ASDION                                         ASDION BHD   \n",
       "2  0068WB   ASDION-WB                 ASDION BERHAD - WARRANTS 2014/2019   \n",
       "3    0069     VIVOCOM                       VIVOCOM INTL HOLDINGS BERHAD   \n",
       "4  0069WC  VIVOCOM-WC  VIVOCOM INTL HOLDINGS BERHAD - WARRANTS C 2015...   \n",
       "\n",
       "        Board      Sector Closing  \n",
       "0  ACE MARKET  TECHNOLOGY   0.120  \n",
       "1  ACE MARKET  TECHNOLOGY   0.185  \n",
       "2  ACE MARKET  TECHNOLOGY   0.010  \n",
       "3  ACE MARKET  TECHNOLOGY   0.020  \n",
       "4  ACE MARKET  TECHNOLOGY   0.005  "
      ]
     },
     "execution_count": 7,
     "metadata": {},
     "output_type": "execute_result"
    }
   ],
   "source": [
    "output2 = output2.rename(columns = {0: \"Stock\", \n",
    "                                1:\"Stock Name\",\n",
    "                                2: \"Stock Long Name\",\n",
    "                               3: \"Board\",\n",
    "                               4:\"Sector\",\n",
    "                               5:\"Closing\"})\n",
    "output2.head()"
   ]
  },
  {
   "cell_type": "markdown",
   "metadata": {},
   "source": [
    "# Append data frame"
   ]
  },
  {
   "cell_type": "code",
   "execution_count": 8,
   "metadata": {},
   "outputs": [
    {
     "name": "stdout",
     "output_type": "stream",
     "text": [
      "(1843, 6)\n"
     ]
    },
    {
     "data": {
      "text/html": [
       "<div>\n",
       "<style scoped>\n",
       "    .dataframe tbody tr th:only-of-type {\n",
       "        vertical-align: middle;\n",
       "    }\n",
       "\n",
       "    .dataframe tbody tr th {\n",
       "        vertical-align: top;\n",
       "    }\n",
       "\n",
       "    .dataframe thead th {\n",
       "        text-align: right;\n",
       "    }\n",
       "</style>\n",
       "<table border=\"1\" class=\"dataframe\">\n",
       "  <thead>\n",
       "    <tr style=\"text-align: right;\">\n",
       "      <th></th>\n",
       "      <th>Stock</th>\n",
       "      <th>Stock Name</th>\n",
       "      <th>Stock Long Name</th>\n",
       "      <th>Board</th>\n",
       "      <th>Sector</th>\n",
       "      <th>Closing</th>\n",
       "    </tr>\n",
       "  </thead>\n",
       "  <tbody>\n",
       "    <tr>\n",
       "      <th>61</th>\n",
       "      <td>9539</td>\n",
       "      <td>MUH</td>\n",
       "      <td>MULTI-USAGE HOLDINGS BHD</td>\n",
       "      <td>MAIN MARKET</td>\n",
       "      <td>PROPERTY</td>\n",
       "      <td>0.490</td>\n",
       "    </tr>\n",
       "    <tr>\n",
       "      <th>62</th>\n",
       "      <td>9571</td>\n",
       "      <td>MITRA</td>\n",
       "      <td>MITRAJAYA HOLDINGS BHD</td>\n",
       "      <td>MAIN MARKET</td>\n",
       "      <td>CONSTRUCTION</td>\n",
       "      <td>0.280</td>\n",
       "    </tr>\n",
       "    <tr>\n",
       "      <th>63</th>\n",
       "      <td>9571WD</td>\n",
       "      <td>MITRA-WD</td>\n",
       "      <td>MITRAJAYA HOLDINGS BERHAD-WARRANTS D 15/20</td>\n",
       "      <td>MAIN MARKET</td>\n",
       "      <td>CONSTRUCTION</td>\n",
       "      <td>0.030</td>\n",
       "    </tr>\n",
       "    <tr>\n",
       "      <th>64</th>\n",
       "      <td>9571WE</td>\n",
       "      <td>MITRA-WE</td>\n",
       "      <td>MITRAJAYA HOLDINGS BERHAD - WARRANTS E 2018/2023</td>\n",
       "      <td>MAIN MARKET</td>\n",
       "      <td>CONSTRUCTION</td>\n",
       "      <td>0.055</td>\n",
       "    </tr>\n",
       "    <tr>\n",
       "      <th>65</th>\n",
       "      <td>9598</td>\n",
       "      <td>PTARAS</td>\n",
       "      <td>PINTARAS JAYA BHD</td>\n",
       "      <td>MAIN MARKET</td>\n",
       "      <td>CONSTRUCTION</td>\n",
       "      <td>2.230</td>\n",
       "    </tr>\n",
       "  </tbody>\n",
       "</table>\n",
       "</div>"
      ],
      "text/plain": [
       "     Stock Stock Name                                   Stock Long Name  \\\n",
       "61    9539        MUH                          MULTI-USAGE HOLDINGS BHD   \n",
       "62    9571      MITRA                            MITRAJAYA HOLDINGS BHD   \n",
       "63  9571WD   MITRA-WD        MITRAJAYA HOLDINGS BERHAD-WARRANTS D 15/20   \n",
       "64  9571WE   MITRA-WE  MITRAJAYA HOLDINGS BERHAD - WARRANTS E 2018/2023   \n",
       "65    9598     PTARAS                                 PINTARAS JAYA BHD   \n",
       "\n",
       "          Board        Sector Closing  \n",
       "61  MAIN MARKET      PROPERTY   0.490  \n",
       "62  MAIN MARKET  CONSTRUCTION   0.280  \n",
       "63  MAIN MARKET  CONSTRUCTION   0.030  \n",
       "64  MAIN MARKET  CONSTRUCTION   0.055  \n",
       "65  MAIN MARKET  CONSTRUCTION   2.230  "
      ]
     },
     "execution_count": 8,
     "metadata": {},
     "output_type": "execute_result"
    }
   ],
   "source": [
    "output3=output.append(output2)\n",
    "print(output3.shape)\n",
    "output3.tail()"
   ]
  },
  {
   "cell_type": "code",
   "execution_count": 9,
   "metadata": {},
   "outputs": [],
   "source": [
    "output3.Stock = output3.Stock.apply('=\"{}\"'.format)"
   ]
  },
  {
   "cell_type": "markdown",
   "metadata": {},
   "source": [
    "# Export dataframe"
   ]
  },
  {
   "cell_type": "code",
   "execution_count": 12,
   "metadata": {},
   "outputs": [],
   "source": [
    "output3.to_csv('Market Segment Information.csv',index=False)\n",
    "output3.to_excel ('Market Segment Information.xlsx', index = None, header=True)"
   ]
  }
 ],
 "metadata": {
  "kernelspec": {
   "display_name": "Python 3",
   "language": "python",
   "name": "python3"
  },
  "language_info": {
   "codemirror_mode": {
    "name": "ipython",
    "version": 3
   },
   "file_extension": ".py",
   "mimetype": "text/x-python",
   "name": "python",
   "nbconvert_exporter": "python",
   "pygments_lexer": "ipython3",
   "version": "3.6.7"
  }
 },
 "nbformat": 4,
 "nbformat_minor": 2
}
